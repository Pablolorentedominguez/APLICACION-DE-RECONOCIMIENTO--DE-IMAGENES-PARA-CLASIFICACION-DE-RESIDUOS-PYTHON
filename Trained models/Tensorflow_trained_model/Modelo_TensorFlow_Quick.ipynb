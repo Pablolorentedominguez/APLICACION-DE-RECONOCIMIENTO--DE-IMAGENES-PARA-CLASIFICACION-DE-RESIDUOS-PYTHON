{
 "cells": [
  {
   "cell_type": "code",
   "execution_count": 1,
   "id": "622582c3",
   "metadata": {},
   "outputs": [],
   "source": [
    "import gradio as gr\n",
    "from tensorflow.keras.models import load_model\n",
    "from tensorflow.keras.preprocessing import image  # Importar el módulo 'image'\n",
    "import numpy as np\n",
    "import tensorflow as tf"
   ]
  },
  {
   "cell_type": "code",
   "execution_count": 2,
   "id": "a22b0413",
   "metadata": {},
   "outputs": [],
   "source": [
    "# Cargar el modelo HDF5\n",
    "modelo_cargado = load_model('tf_model.h5')"
   ]
  },
  {
   "cell_type": "code",
   "execution_count": 3,
   "id": "83a13db7",
   "metadata": {},
   "outputs": [
    {
     "name": "stdout",
     "output_type": "stream",
     "text": [
      "Running on local URL:  http://127.0.0.1:7861\n",
      "\n",
      "To create a public link, set `share=True` in `launch()`.\n"
     ]
    },
    {
     "data": {
      "text/html": [
       "<div><iframe src=\"http://127.0.0.1:7861/\" width=\"100%\" height=\"500\" allow=\"autoplay; camera; microphone; clipboard-read; clipboard-write;\" frameborder=\"0\" allowfullscreen></iframe></div>"
      ],
      "text/plain": [
       "<IPython.core.display.HTML object>"
      ]
     },
     "metadata": {},
     "output_type": "display_data"
    },
    {
     "data": {
      "text/plain": []
     },
     "execution_count": 3,
     "metadata": {},
     "output_type": "execute_result"
    }
   ],
   "source": [
    "# Definir funciones de procesamiento de imágenes y resultados para Gradio\n",
    "def process_image_and_predict(img):\n",
    "    img_resized = image.img_to_array(img)  # Asegúrate de que 'image' esté importado\n",
    "    img_resized = np.expand_dims(img_resized, axis=0)\n",
    "    img_resized = tf.image.resize(img_resized, (256,256))\n",
    "    img_array = img_resized / 255.0  # Normalizar\n",
    "    prediction = modelo_cargado.predict(img_array)  # Usar 'modelo_cargado'\n",
    "    if prediction[0][0] >= 0.5:\n",
    "        label = \"No Biodegradable\"\n",
    "    else:\n",
    "        label = \"Biodegradable\"\n",
    "    confidence = float(prediction[0][0])\n",
    "    return label, confidence\n",
    "\n",
    "def mostrar_resultado(input_image):\n",
    "    label, confidence = process_image_and_predict(input_image)\n",
    "    return f\"Prediction: {label} (Confidence: {confidence:.4f})\"\n",
    "\n",
    "# Integración con Gradio\n",
    "iface = gr.Interface(\n",
    "    fn=mostrar_resultado,\n",
    "    inputs=\"image\",\n",
    "    outputs=\"label\",\n",
    "    title=\"¿Biodegradable o No?\",\n",
    "    description=\"¡Suba una imagen para identificar si es biodegradable o no!\"\n",
    ")\n",
    "\n",
    "iface.launch()"
   ]
  },
  {
   "cell_type": "code",
   "execution_count": null,
   "id": "0052eeb5",
   "metadata": {},
   "outputs": [],
   "source": []
  }
 ],
 "metadata": {
  "kernelspec": {
   "display_name": "Python 3 (ipykernel)",
   "language": "python",
   "name": "python3"
  },
  "language_info": {
   "codemirror_mode": {
    "name": "ipython",
    "version": 3
   },
   "file_extension": ".py",
   "mimetype": "text/x-python",
   "name": "python",
   "nbconvert_exporter": "python",
   "pygments_lexer": "ipython3",
   "version": "3.11.5"
  }
 },
 "nbformat": 4,
 "nbformat_minor": 5
}
