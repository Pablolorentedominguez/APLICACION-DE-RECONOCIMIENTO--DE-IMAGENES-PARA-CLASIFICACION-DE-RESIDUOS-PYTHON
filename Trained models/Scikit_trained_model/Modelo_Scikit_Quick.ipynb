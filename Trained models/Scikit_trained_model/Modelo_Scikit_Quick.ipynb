{
 "cells": [
  {
   "cell_type": "code",
   "execution_count": 1,
   "id": "bb063302",
   "metadata": {},
   "outputs": [],
   "source": [
    "import gradio as gr\n",
    "from joblib import load\n",
    "import numpy as np\n",
    "from skimage.transform import resize\n",
    "from sklearn.preprocessing import StandardScaler\n",
    "import os"
   ]
  },
  {
   "cell_type": "code",
   "execution_count": 2,
   "id": "4f100089",
   "metadata": {},
   "outputs": [],
   "source": [
    "# Cargar el modelo y el scaler\n",
    "modelo_cargado = load('skl_logistic_regression_model.joblib')\n",
    "scaler = load('scaler.joblib')"
   ]
  },
  {
   "cell_type": "code",
   "execution_count": 3,
   "id": "ba6941a8",
   "metadata": {},
   "outputs": [],
   "source": [
    "# Definir el tamaño objetivo para el redimensionamiento de las imágenes\n",
    "target_size = (200, 200)  # Asegúrate de que este sea el tamaño con el que fue entrenado el modelo"
   ]
  },
  {
   "cell_type": "code",
   "execution_count": 4,
   "id": "2ab90a01",
   "metadata": {},
   "outputs": [],
   "source": [
    "# Función para procesar y predecir imágenes utilizando el modelo entrenado\n",
    "def process_image_and_predict(image):\n",
    "    img = np.array(image)\n",
    "    img_resized = resize(img, output_shape=target_size).flatten()\n",
    "    img_resized_scaled = scaler.transform([img_resized])  # Escalar la imagen\n",
    "    prediction = modelo_cargado.predict(img_resized_scaled)  # Realizar la predicción\n",
    "    etiquetas = {0: 'Biodegradable', 1: 'No Biodegradable'}\n",
    "    return etiquetas[prediction[0]]"
   ]
  },
  {
   "cell_type": "code",
   "execution_count": 5,
   "id": "fbc2e6d3",
   "metadata": {},
   "outputs": [],
   "source": [
    "# Definir función para mostrar resultados en Gradio\n",
    "def mostrar_resultado(imagen):\n",
    "    etiqueta = process_image_and_predict(imagen)\n",
    "    return f\"La imagen es {etiqueta}.\""
   ]
  },
  {
   "cell_type": "code",
   "execution_count": 6,
   "id": "5e17db0c",
   "metadata": {},
   "outputs": [
    {
     "name": "stdout",
     "output_type": "stream",
     "text": [
      "Running on local URL:  http://127.0.0.1:7862\n",
      "\n",
      "To create a public link, set `share=True` in `launch()`.\n"
     ]
    },
    {
     "data": {
      "text/html": [
       "<div><iframe src=\"http://127.0.0.1:7862/\" width=\"100%\" height=\"500\" allow=\"autoplay; camera; microphone; clipboard-read; clipboard-write;\" frameborder=\"0\" allowfullscreen></iframe></div>"
      ],
      "text/plain": [
       "<IPython.core.display.HTML object>"
      ]
     },
     "metadata": {},
     "output_type": "display_data"
    },
    {
     "data": {
      "text/plain": []
     },
     "execution_count": 6,
     "metadata": {},
     "output_type": "execute_result"
    }
   ],
   "source": [
    "# Crear la interfaz de Gradio\n",
    "iface = gr.Interface(\n",
    "    fn=mostrar_resultado,\n",
    "    inputs=\"image\",\n",
    "    outputs=\"label\",\n",
    "    title=\"Biodegradable o No?\",\n",
    "    description=\"Suba una Imagen para identificar si es Biodegradable o No!\"\n",
    ")\n",
    "\n",
    "# Lanzar la aplicación de Gradio\n",
    "iface.launch()"
   ]
  },
  {
   "cell_type": "code",
   "execution_count": null,
   "id": "16ec762d",
   "metadata": {},
   "outputs": [],
   "source": []
  }
 ],
 "metadata": {
  "kernelspec": {
   "display_name": "Python 3 (ipykernel)",
   "language": "python",
   "name": "python3"
  },
  "language_info": {
   "codemirror_mode": {
    "name": "ipython",
    "version": 3
   },
   "file_extension": ".py",
   "mimetype": "text/x-python",
   "name": "python",
   "nbconvert_exporter": "python",
   "pygments_lexer": "ipython3",
   "version": "3.11.5"
  }
 },
 "nbformat": 4,
 "nbformat_minor": 5
}
