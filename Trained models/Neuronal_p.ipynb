{
 "cells": [
  {
   "cell_type": "code",
   "execution_count": 1,
   "id": "a28dc6c8",
   "metadata": {},
   "outputs": [],
   "source": [
    "import gradio as gr\n",
    "import tensorflow as tf\n",
    "from tensorflow.keras.applications import MobileNetV2\n",
    "from tensorflow.keras.applications.mobilenet_v2 import preprocess_input, decode_predictions\n",
    "import numpy as np\n",
    "from PIL import Image"
   ]
  },
  {
   "cell_type": "code",
   "execution_count": 2,
   "id": "f5ce2450",
   "metadata": {},
   "outputs": [],
   "source": [
    "# Cargar el modelo pre-entrenado MobileNetV2\n",
    "model = MobileNetV2(weights='imagenet')"
   ]
  },
  {
   "cell_type": "code",
   "execution_count": 3,
   "id": "d6ca9ada",
   "metadata": {},
   "outputs": [],
   "source": [
    "# Definir la función de predicción\n",
    "def classify_image_with_mobilenetv2(img):\n",
    "    img = Image.fromarray(img.astype('uint8'), 'RGB')  # Convertir a imagen PIL\n",
    "    img = img.resize((224, 224))  # Redimensionar la imagen a 200x200 píxeles\n",
    "    img = np.array(img)  # Convertir la imagen redimensionada de vuelta a un arreglo numpy\n",
    "    img = img.reshape((1, 224, 224, 3))\n",
    "    img = preprocess_input(img)\n",
    "    preds = model.predict(img)\n",
    "    decoded_preds = decode_predictions(preds, top=3)[0]\n",
    "    results = {label: float(score) for (_, label, score) in decoded_preds}  # Convertir a tipo float\n",
    "    return results"
   ]
  },
  {
   "cell_type": "code",
   "execution_count": 4,
   "id": "3c85b261-e5b9-4011-a9ff-79bdb10715de",
   "metadata": {},
   "outputs": [
    {
     "name": "stdout",
     "output_type": "stream",
     "text": [
      "Running on local URL:  http://127.0.0.1:7860\n",
      "\n",
      "To create a public link, set `share=True` in `launch()`.\n"
     ]
    },
    {
     "data": {
      "text/html": [
       "<div><iframe src=\"http://127.0.0.1:7860/\" width=\"100%\" height=\"500\" allow=\"autoplay; camera; microphone; clipboard-read; clipboard-write;\" frameborder=\"0\" allowfullscreen></iframe></div>"
      ],
      "text/plain": [
       "<IPython.core.display.HTML object>"
      ]
     },
     "metadata": {},
     "output_type": "display_data"
    },
    {
     "data": {
      "text/plain": []
     },
     "execution_count": 4,
     "metadata": {},
     "output_type": "execute_result"
    }
   ],
   "source": [
    "# Interfaz de Gradio\n",
    "\n",
    "iface = gr.Interface(\n",
    "    fn=classify_image_with_mobilenetv2,\n",
    "    inputs=\"image\",\n",
    "    outputs=\"label\"\n",
    "\n",
    ")\n",
    "\n",
    "iface.launch()"
   ]
  },
  {
   "cell_type": "code",
   "execution_count": null,
   "id": "2d2af908-f810-4c82-bddb-32f72801324b",
   "metadata": {},
   "outputs": [],
   "source": []
  }
 ],
 "metadata": {
  "kernelspec": {
   "display_name": "Python 3 (ipykernel)",
   "language": "python",
   "name": "python3"
  },
  "language_info": {
   "codemirror_mode": {
    "name": "ipython",
    "version": 3
   },
   "file_extension": ".py",
   "mimetype": "text/x-python",
   "name": "python",
   "nbconvert_exporter": "python",
   "pygments_lexer": "ipython3",
   "version": "3.11.5"
  },
  "latex_envs": {
   "LaTeX_envs_menu_present": true,
   "autoclose": false,
   "autocomplete": true,
   "bibliofile": "biblio.bib",
   "cite_by": "apalike",
   "current_citInitial": 1,
   "eqLabelWithNumbers": true,
   "eqNumInitial": 1,
   "hotkeys": {
    "equation": "Ctrl-E",
    "itemize": "Ctrl-I"
   },
   "labels_anchors": false,
   "latex_user_defs": false,
   "report_style_numbering": false,
   "user_envs_cfg": false
  }
 },
 "nbformat": 4,
 "nbformat_minor": 5
}
