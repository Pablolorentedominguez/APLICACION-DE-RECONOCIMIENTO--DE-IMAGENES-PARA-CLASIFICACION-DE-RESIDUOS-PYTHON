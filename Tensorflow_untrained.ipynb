{
 "cells": [
  {
   "cell_type": "code",
   "execution_count": 1,
   "id": "a4de7cb3",
   "metadata": {},
   "outputs": [
    {
     "name": "stdout",
     "output_type": "stream",
     "text": [
      "CPU times: total: 4.59 s\n",
      "Wall time: 9.11 s\n"
     ]
    }
   ],
   "source": [
    "%%time\n",
    "import os\n",
    "import numpy as np\n",
    "import gradio as gr\n",
    "from tensorflow.keras.preprocessing import image\n",
    "import tensorflow as tf\n",
    "from tensorflow.keras.models import Sequential\n",
    "from tensorflow.keras.layers import Conv2D, MaxPooling2D, Flatten, Dense, Dropout, BatchNormalization\n",
    "from tensorflow.keras.optimizers import Adam\n",
    "from tensorflow.keras.preprocessing.image import ImageDataGenerator\n",
    "from tensorflow.keras.callbacks import EarlyStopping, ModelCheckpoint, ReduceLROnPlateau\n",
    "import matplotlib.pyplot as plt\n",
    "from PIL import Image\n",
    "from datetime import datetime\n",
    "start_time = datetime.now()"
   ]
  },
  {
   "cell_type": "code",
   "execution_count": 2,
   "id": "9bc0db09",
   "metadata": {},
   "outputs": [
    {
     "name": "stdout",
     "output_type": "stream",
     "text": [
      "C:\\Users\\Usuario\\Desktop\\Mis notebooks\\TFM\\TRAIN.1\n",
      "C:\\Users\\Usuario\\Desktop\\Mis notebooks\\TFM\\TEST\n",
      "CPU times: total: 0 ns\n",
      "Wall time: 0 ns\n"
     ]
    }
   ],
   "source": [
    "%%time\n",
    "# Definir la ruta al directorio actual y al directorio de entrenamiento\n",
    "directorio_actual = os.getcwd()\n",
    "train_dir = os.path.join(directorio_actual, 'TRAIN.1')\n",
    "test_dir = os.path.join(directorio_actual, 'TEST')\n",
    "print(train_dir)\n",
    "print(test_dir)"
   ]
  },
  {
   "cell_type": "code",
   "execution_count": 3,
   "id": "969f0174",
   "metadata": {},
   "outputs": [
    {
     "name": "stdout",
     "output_type": "stream",
     "text": [
      "CPU times: total: 0 ns\n",
      "Wall time: 0 ns\n"
     ]
    }
   ],
   "source": [
    "%%time\n",
    "# Configurar el preprocesamiento de imágenes\n",
    "datagen = ImageDataGenerator(\n",
    "    rescale=1./255,  # Normalización de las imágenes\n",
    "    rotation_range=20,  # Reducir el rango de rotación para evitar distorsiones fuertes\n",
    "    width_shift_range=0.1,  # Reducir para evitar distorsiones fuertes\n",
    "    height_shift_range=0.1,  # Reducir para evitar distorsiones fuertes\n",
    "    shear_range=10,  # Reducir para evitar distorsiones fuertes\n",
    "    zoom_range=0.8,  # Rango de zoom menos agresivo\n",
    "    horizontal_flip=True,\n",
    "    vertical_flip=True,\n",
    ")"
   ]
  },
  {
   "cell_type": "code",
   "execution_count": 4,
   "id": "958aff99",
   "metadata": {},
   "outputs": [
    {
     "name": "stdout",
     "output_type": "stream",
     "text": [
      "Found 8000 images belonging to 2 classes.\n",
      "Found 2000 images belonging to 2 classes.\n",
      "CPU times: total: 1.39 s\n",
      "Wall time: 776 ms\n"
     ]
    }
   ],
   "source": [
    "%%time\n",
    "# Generadores de datos\n",
    "train_generator = datagen.flow_from_directory(\n",
    "    train_dir,\n",
    "    target_size=(256, 256),\n",
    "    batch_size=32,\n",
    "    class_mode='binary',\n",
    "    shuffle=True,\n",
    "    classes=['B', 'N']\n",
    ")\n",
    "\n",
    "validation_generator = datagen.flow_from_directory(\n",
    "    test_dir,\n",
    "    target_size=(256, 256),\n",
    "    batch_size=32,\n",
    "    class_mode='binary',\n",
    "    shuffle=True,\n",
    "    classes=['B', 'N']\n",
    ")\n",
    "\n",
    "# Construcción del modelo\n",
    "model = Sequential([\n",
    "    Conv2D(32, (3, 3), activation='relu', input_shape=(256, 256, 3)),\n",
    "    BatchNormalization(),\n",
    "    MaxPooling2D((2, 2)),\n",
    "    \n",
    "    Conv2D(64, (3, 3), activation='relu'),\n",
    "    BatchNormalization(),\n",
    "    MaxPooling2D((2, 2)),\n",
    "    \n",
    "    Conv2D(128, (3, 3), activation='relu'),\n",
    "    BatchNormalization(),\n",
    "    MaxPooling2D((2, 2)),\n",
    "    \n",
    "    Flatten(),\n",
    "    Dense(256, activation='relu'),\n",
    "    BatchNormalization(),\n",
    "    Dropout(0.5), # Ajustar si es necesario, por ejemplo, a 0.4 o 0.6 para ver si mejora el rendimiento\n",
    "    Dense(1, activation='sigmoid')\n",
    "])\n",
    "\n",
    "learning_rate = 0.001  # Cambia la tasa de aprendizaje según tus necesidades"
   ]
  },
  {
   "cell_type": "code",
   "execution_count": 5,
   "id": "51d2e784",
   "metadata": {},
   "outputs": [
    {
     "name": "stdout",
     "output_type": "stream",
     "text": [
      "CPU times: total: 0 ns\n",
      "Wall time: 11 ms\n"
     ]
    }
   ],
   "source": [
    "%%time\n",
    "# Compilación del modelo\n",
    "model.compile(optimizer=Adam(learning_rate=0.001), loss='binary_crossentropy', metrics=['accuracy'])\n",
    "\n",
    "# Callbacks para evitar el sobreentrenamiento y ajustar la tasa de aprendizaje\n",
    "early_stopping = EarlyStopping(monitor='val_loss', patience=3)  # Paciencia reducida para detenerse más pronto\n",
    "model_checkpoint = ModelCheckpoint('best_model.h5', monitor='val_loss', save_best_only=True)\n",
    "reduce_lr = ReduceLROnPlateau(monitor='val_loss', factor=0.2, patience=2, min_lr=0.00001)  # Valor mínimo de LR reducido"
   ]
  },
  {
   "cell_type": "code",
   "execution_count": 6,
   "id": "19225407",
   "metadata": {},
   "outputs": [
    {
     "name": "stdout",
     "output_type": "stream",
     "text": [
      "Epoch 1/30\n",
      "250/250 [==============================] - ETA: 0s - loss: 0.4488 - accuracy: 0.8428"
     ]
    },
    {
     "name": "stderr",
     "output_type": "stream",
     "text": [
      "C:\\Users\\Usuario\\anaconda3\\envs\\Python_3115_project\\Lib\\site-packages\\keras\\src\\engine\\training.py:3079: UserWarning: You are saving your model as an HDF5 file via `model.save()`. This file format is considered legacy. We recommend using instead the native Keras format, e.g. `model.save('my_model.keras')`.\n",
      "  saving_api.save_model(\n"
     ]
    },
    {
     "name": "stdout",
     "output_type": "stream",
     "text": [
      "250/250 [==============================] - 411s 2s/step - loss: 0.4488 - accuracy: 0.8428 - val_loss: 0.8134 - val_accuracy: 0.5505 - lr: 0.0010\n",
      "Epoch 2/30\n",
      "250/250 [==============================] - 408s 2s/step - loss: 0.3416 - accuracy: 0.8619 - val_loss: 0.6421 - val_accuracy: 0.7085 - lr: 0.0010\n",
      "Epoch 3/30\n",
      "250/250 [==============================] - 410s 2s/step - loss: 0.3255 - accuracy: 0.8594 - val_loss: 1.1374 - val_accuracy: 0.6250 - lr: 0.0010\n",
      "Epoch 4/30\n",
      "250/250 [==============================] - 408s 2s/step - loss: 0.3075 - accuracy: 0.8710 - val_loss: 0.4740 - val_accuracy: 0.7865 - lr: 0.0010\n",
      "Epoch 5/30\n",
      "250/250 [==============================] - 407s 2s/step - loss: 0.2939 - accuracy: 0.8767 - val_loss: 0.4140 - val_accuracy: 0.8165 - lr: 0.0010\n",
      "Epoch 6/30\n",
      "250/250 [==============================] - 405s 2s/step - loss: 0.2981 - accuracy: 0.8759 - val_loss: 0.3821 - val_accuracy: 0.8290 - lr: 0.0010\n",
      "Epoch 7/30\n",
      "250/250 [==============================] - 399s 2s/step - loss: 0.2884 - accuracy: 0.8802 - val_loss: 0.4308 - val_accuracy: 0.8140 - lr: 0.0010\n",
      "Epoch 8/30\n",
      "250/250 [==============================] - 410s 2s/step - loss: 0.2848 - accuracy: 0.8855 - val_loss: 0.4161 - val_accuracy: 0.8170 - lr: 0.0010\n",
      "Epoch 9/30\n",
      "250/250 [==============================] - 398s 2s/step - loss: 0.2631 - accuracy: 0.8934 - val_loss: 0.3454 - val_accuracy: 0.8495 - lr: 2.0000e-04\n",
      "Epoch 10/30\n",
      "250/250 [==============================] - 399s 2s/step - loss: 0.2553 - accuracy: 0.8939 - val_loss: 0.3699 - val_accuracy: 0.8360 - lr: 2.0000e-04\n",
      "Epoch 11/30\n",
      "250/250 [==============================] - 405s 2s/step - loss: 0.2503 - accuracy: 0.8979 - val_loss: 0.4360 - val_accuracy: 0.8140 - lr: 2.0000e-04\n",
      "Epoch 12/30\n",
      "250/250 [==============================] - 398s 2s/step - loss: 0.2473 - accuracy: 0.9021 - val_loss: 0.3977 - val_accuracy: 0.8285 - lr: 4.0000e-05\n",
      "CPU times: total: 13h 2min 2s\n",
      "Wall time: 1h 20min 58s\n"
     ]
    }
   ],
   "source": [
    "%%time\n",
    "# Entrenamiento del modelo\n",
    "history = model.fit(\n",
    "    train_generator,\n",
    "    epochs=30,  # Reducido el número de épocas para observar el efecto de los callbacks\n",
    "    verbose=1,\n",
    "    validation_data=validation_generator,\n",
    "    callbacks=[early_stopping, model_checkpoint, reduce_lr]\n",
    ")"
   ]
  },
  {
   "cell_type": "code",
   "execution_count": 7,
   "id": "fb50caa8",
   "metadata": {},
   "outputs": [
    {
     "name": "stdout",
     "output_type": "stream",
     "text": [
      "63/63 [==============================] - 32s 501ms/step - loss: 0.3993 - accuracy: 0.8265\n",
      "Test Accuracy: 0.8265\n",
      "CPU times: total: 3min 10s\n",
      "Wall time: 32.1 s\n"
     ]
    }
   ],
   "source": [
    "%%time\n",
    "# Evaluar el modelo\n",
    "test_loss, test_accuracy = model.evaluate(validation_generator)\n",
    "print(f\"Test Accuracy: {test_accuracy:.4f}\")"
   ]
  },
  {
   "cell_type": "code",
   "execution_count": 8,
   "id": "fba1b771",
   "metadata": {
    "scrolled": true
   },
   "outputs": [
    {
     "name": "stdout",
     "output_type": "stream",
     "text": [
      "Tiempo de ejecución total: 81 minutos y 35 segundos\n",
      "CPU times: total: 266 ms\n",
      "Wall time: 3.83 s\n"
     ]
    },
    {
     "data": {
      "image/png": "[encoded data removed]",
      "text/plain": [
       "<Figure size 1200x600 with 2 Axes>"
      ]
     },
     "metadata": {},
     "output_type": "display_data"
    }
   ],
   "source": [
    "%%time\n",
    "# Graficar la precisión y la pérdida a lo largo de las épocas\n",
    "\n",
    "import matplotlib.pyplot as plt\n",
    "\n",
    "plt.figure(figsize=(12, 6))\n",
    "plt.subplot(1, 2, 1)\n",
    "plt.plot(history.history['accuracy'], label='train_accuracy')\n",
    "plt.plot(history.history['val_accuracy'], label='val_accuracy')\n",
    "plt.xlabel('Epoch')\n",
    "plt.ylabel('Accuracy')\n",
    "plt.legend(loc='lower right')\n",
    "plt.title('Training and Validation Accuracy')\n",
    "\n",
    "plt.subplot(1, 2, 2)\n",
    "plt.plot(history.history['loss'], label='train_loss')\n",
    "plt.plot(history.history['val_loss'], label='val_loss')\n",
    "plt.xlabel('Epoch')\n",
    "plt.ylabel('Loss')\n",
    "plt.legend(loc='upper right')\n",
    "plt.title('Training and Validation Loss')\n",
    "\n",
    "# Guardar la gráfica como imagen\n",
    "plt.savefig('training_performance.png')\n",
    "\n",
    "# Mostrar la gráfica\n",
    "img = Image.open('training_performance.png')\n",
    "img.show()\n",
    "end_time = datetime.now()\n",
    "time_diff = end_time - start_time\n",
    "minutes = time_diff.seconds // 60\n",
    "seconds = time_diff.seconds % 60\n",
    "print(f\"Tiempo de ejecución total: {minutes} minutos y {seconds} segundos\")"
   ]
  },
  {
   "cell_type": "code",
   "execution_count": 10,
   "id": "b56db8ba",
   "metadata": {},
   "outputs": [
    {
     "name": "stderr",
     "output_type": "stream",
     "text": [
      "C:\\Users\\Usuario\\anaconda3\\envs\\Python_3115_project\\Lib\\site-packages\\keras\\src\\engine\\training.py:3079: UserWarning: You are saving your model as an HDF5 file via `model.save()`. This file format is considered legacy. We recommend using instead the native Keras format, e.g. `model.save('my_model.keras')`.\n",
      "  saving_api.save_model(\n"
     ]
    },
    {
     "name": "stdout",
     "output_type": "stream",
     "text": [
      "INFO:tensorflow:Assets written to: mi_modelo_saved_model\\assets\n"
     ]
    },
    {
     "name": "stderr",
     "output_type": "stream",
     "text": [
      "INFO:tensorflow:Assets written to: mi_modelo_saved_model\\assets\n"
     ]
    }
   ],
   "source": [
    "# Guardar el modelo en formato HDF5\n",
    "model.save('mi_modelo.h5')\n",
    "# O guardar el modelo como un TensorFlow SavedModel\n",
    "model.save('mi_modelo_saved_model')"
   ]
  },
  {
   "cell_type": "code",
   "execution_count": 9,
   "id": "aa05848f",
   "metadata": {},
   "outputs": [
    {
     "name": "stdout",
     "output_type": "stream",
     "text": [
      "Running on local URL:  http://127.0.0.1:7860\n",
      "\n",
      "To create a public link, set `share=True` in `launch()`.\n"
     ]
    },
    {
     "data": {
      "text/html": [
       "<div><iframe src=\"http://127.0.0.1:7860/\" width=\"100%\" height=\"500\" allow=\"autoplay; camera; microphone; clipboard-read; clipboard-write;\" frameborder=\"0\" allowfullscreen></iframe></div>"
      ],
      "text/plain": [
       "<IPython.core.display.HTML object>"
      ]
     },
     "metadata": {},
     "output_type": "display_data"
    },
    {
     "name": "stdout",
     "output_type": "stream",
     "text": [
      "CPU times: total: 141 ms\n",
      "Wall time: 133 ms\n"
     ]
    },
    {
     "data": {
      "text/plain": []
     },
     "execution_count": 9,
     "metadata": {},
     "output_type": "execute_result"
    }
   ],
   "source": [
    "%%time\n",
    "# Definir funciones de procesamiento de imágenes y resultados para Gradio\n",
    "\n",
    "def process_image_and_predict(img):\n",
    "    img_resized = image.img_to_array(img)\n",
    "    img_resized = np.expand_dims(img_resized, axis=0)\n",
    "    img_resized = tf.image.resize(img_resized, (256,256))\n",
    "    img_array = img_resized / 255.0  # Normalizar\n",
    "    prediction = model.predict(img_array)\n",
    "    if prediction[0][0] >= 0.5:\n",
    "        label = \"No Biodegradable\"\n",
    "    else:\n",
    "        label = \"Biodegradable\"\n",
    "    confidence = float(prediction[0][0])\n",
    "    return label, confidence\n",
    "\n",
    "def mostrar_resultado(input_image):\n",
    "    label, confidence = process_image_and_predict(input_image)\n",
    "    return f\"Prediction: {label} (Confidence: {confidence:.4f})\"\n",
    "\n",
    "# Integración con Gradio\n",
    "iface = gr.Interface(\n",
    "    fn=mostrar_resultado,\n",
    "    inputs=\"image\",\n",
    "    outputs=\"label\",\n",
    "    title=\"¿Biodegradable o No?\",\n",
    "    description=\"¡Suba una imagen para identificar si es biodegradable o no!\"\n",
    ")\n",
    "\n",
    "iface.launch()"
   ]
  }
 ],
 "metadata": {
  "kernelspec": {
   "display_name": "Python 3 (ipykernel)",
   "language": "python",
   "name": "python3"
  },
  "language_info": {
   "codemirror_mode": {
    "name": "ipython",
    "version": 3
   },
   "file_extension": ".py",
   "mimetype": "text/x-python",
   "name": "python",
   "nbconvert_exporter": "python",
   "pygments_lexer": "ipython3",
   "version": "3.11.5"
  },
  "latex_envs": {
   "LaTeX_envs_menu_present": true,
   "autoclose": false,
   "autocomplete": true,
   "bibliofile": "biblio.bib",
   "cite_by": "apalike",
   "current_citInitial": 1,
   "eqLabelWithNumbers": true,
   "eqNumInitial": 1,
   "hotkeys": {
    "equation": "Ctrl-E",
    "itemize": "Ctrl-I"
   },
   "labels_anchors": false,
   "latex_user_defs": false,
   "report_style_numbering": false,
   "user_envs_cfg": false
  }
 },
 "nbformat": 4,
 "nbformat_minor": 5
}
